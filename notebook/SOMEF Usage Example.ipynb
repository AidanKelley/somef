{
 "cells": [
  {
   "cell_type": "markdown",
   "metadata": {},
   "source": [
    "## Using SOMEF"
   ]
  },
  {
   "cell_type": "markdown",
   "metadata": {},
   "source": [
    "The SOftwae MEtadata Extraction Framework (SOFEF) can be used to extract metadata from a software repository and its documentation. In this notebook we cover a few examples on how to configure and run the tool\n",
    "\n",
    "### 1. Tool options\n",
    "By executing the help command, you can see the different options for running SOMEF:"
   ]
  },
  {
   "cell_type": "code",
   "execution_count": 3,
   "metadata": {},
   "outputs": [
    {
     "name": "stdout",
     "output_type": "stream",
     "text": [
      "Usage: somef [OPTIONS] COMMAND [ARGS]...\n",
      "\n",
      "Options:\n",
      "  -h, --help  Show this message and exit.\n",
      "\n",
      "Commands:\n",
      "  configure  Configure GitHub credentials and classifiers file path\n",
      "  describe   Running SOMEF Command Line Interface\n",
      "  version    Show SOMEF version.\n"
     ]
    }
   ],
   "source": [
    "%%bash\n",
    "somef --help"
   ]
  },
  {
   "cell_type": "markdown",
   "metadata": {},
   "source": [
    "### 2. Setting up SOMEF\n",
    "Before you run SOMEF for the first time, you have to configure it. This only needs to be done **once**. \n",
    "\n",
    "Running somef with the `-a` option will use the defaults, but it won't use any GitHub API token (i.e., it is limited by GitHub). You can edit the SOMEF configuration file afterwards to include the token, don't worry."
   ]
  },
  {
   "cell_type": "code",
   "execution_count": 6,
   "metadata": {},
   "outputs": [
    {
     "name": "stdout",
     "output_type": "stream",
     "text": [
      "SOftware MEtadata Extraction Framework (SOMEF) Command Line Interface\n",
      "Configuring SOMEF automatically. To assign credentials edit the configuration file or run the intearctive mode\n",
      "Success\n"
     ]
    },
    {
     "name": "stderr",
     "output_type": "stream",
     "text": [
      "[nltk_data] Downloading package wordnet to /home/dgarijo/nltk_data...\n",
      "[nltk_data]   Package wordnet is already up-to-date!\n"
     ]
    }
   ],
   "source": [
    "%%bash\n",
    "somef configure -a"
   ]
  },
  {
   "cell_type": "markdown",
   "metadata": {},
   "source": [
    "### 3. Running SOMEF\n",
    "Now you are set up for running SOMEF. Let's analyze the repository KGTK (https://github.com/usc-isi-i2/kgtk), a repository of a Knowledge Graph Toolkit. If you want to analyze any other repository, just add its link. If you want to obtain only results with a high confidence, you may incrrease the confidence threshold used for the supervised classifiers (default: 0.8). This can be done with the flag `-t`. See `somef describe --help` for more information"
   ]
  },
  {
   "cell_type": "code",
   "execution_count": 8,
   "metadata": {},
   "outputs": [
    {
     "name": "stdout",
     "output_type": "stream",
     "text": [
      "SOftware MEtadata Extraction Framework (SOMEF) Command Line Interface\n",
      "Loading Repository https://github.com/usc-isi-i2/rltk Information....\n",
      "https://api.github.com/repos/usc-isi-i2/rltk\n",
      "Repository Information Successfully Loaded. \n",
      "\n",
      "Extracting information using headers\n",
      "Extracting headers and content.\n",
      "Labeling headers.\n",
      "Converting to json files.\n",
      "Information extracted. \n",
      "\n",
      "Splitting text into valid excerpts for classification\n",
      "Text Successfully split. \n",
      "\n",
      "Classifying excerpts for the catgory description\n",
      "Excerpt Classification Successful for the Category description\n",
      "Classifying excerpts for the catgory citation\n",
      "Excerpt Classification Successful for the Category citation\n",
      "Classifying excerpts for the catgory installation\n",
      "Excerpt Classification Successful for the Category installation\n",
      "Classifying excerpts for the catgory invocation\n",
      "Excerpt Classification Successful for the Category invocation\n",
      "\n",
      "\n",
      "Checking Thresholds for Classified Excerpts.\n",
      "Running for description\n",
      "Run completed.\n",
      "Running for citation\n",
      "Run completed.\n",
      "Running for installation\n",
      "Run completed.\n",
      "Running for invocation\n",
      "Run completed.\n",
      "All Excerpts below the given Threshold Removed. \n",
      "\n",
      "Extraction of bibtex citation from readme completed. \n",
      "\n",
      "Extraction of DOIS from readme completed.\n",
      "\n",
      "Extraction of Binder links from readme completed.\n",
      "\n",
      "Merge prediction using header information, classifier and bibtex and doi parsers\n",
      "Merging successful. \n",
      "\n",
      "formatting output\n",
      "Saving json data to test.json\n",
      "Success\n"
     ]
    },
    {
     "name": "stderr",
     "output_type": "stream",
     "text": [
      "/home/dgarijo/Documents/GitHub/somef/env/lib/python3.8/site-packages/pandas/core/frame.py:1485: FutureWarning: Using short name for 'orient' is deprecated. Only the options: ('dict', list, 'series', 'split', 'records', 'index') will be used in a future version. Use one of the above to silence this warning.\n",
      "  warnings.warn(\n"
     ]
    }
   ],
   "source": [
    "%%bash\n",
    "somef describe -r https://github.com/usc-isi-i2/kgtk -o test.json"
   ]
  },
  {
   "cell_type": "markdown",
   "metadata": {},
   "source": [
    "### 4. Browse obtained results:\n",
    "Now let's see the result file, which contains a set of entries with the results found. For each entry, SOMEF returns the technique used in the extraction and the confidence associated with such technique. For example, if a supervised classifier has been used, somef returns the score for each sentence in the excerpt. To export results as RDF, just use the `-g` and `-f` options"
   ]
  },
  {
   "cell_type": "code",
   "execution_count": 9,
   "metadata": {},
   "outputs": [
    {
     "data": {
      "text/plain": [
       "{'description': [{'excerpt': 'The Record Linkage ToolKit (RLTK) is a general-purpose open-source record linkage platform that allows users to build powerful Python programs that link records referring to the same underlying entity. Record linkage is an extremely important problem that shows up in domains extending from social networks to bibliographic data and biomedicine. Current open platforms for record linkage have problems scaling even to moderately sized datasets, or are just not easy to use (even by experts). RLTK attempts to address all of these issues. \\nRLTK supports a full, scalable record linkage pipeline, including multi-core algorithms for blocking, profiling data, computing a wide variety of features, and training and applying machine learning classifiers based on Python’s sklearn library. An end-to-end RLTK pipeline can be jump-started with only a few lines of code. However, RLTK is also designed to be extensible and customizable, allowing users arbitrary degrees of control over many of the individual components. You can add new features to RLTK (e.g. a custom string similarity) very easily. \\n',\n",
       "   'confidence': [0.8482897919547067, 0.9163711174405582],\n",
       "   'technique': 'Supervised classification'},\n",
       "  {'excerpt': 'RLTK is under active maintenance and we expect to keep adding new features and state-of-the-art record linkage algorithms in the foreseeable future, in addition to continuously supporting our adopters to integrate the platform into their applications. \\n',\n",
       "   'confidence': [0.8574457628244572],\n",
       "   'technique': 'Supervised classification'},\n",
       "  {'excerpt': 'Record Linkage ToolKit (Find and link entities)',\n",
       "   'confidence': [1.0],\n",
       "   'technique': 'GitHub API'}],\n",
       " 'citation': [],\n",
       " 'installation': [],\n",
       " 'invocation': [],\n",
       " 'long_title': {'excerpt': 'RLTK: Record Linkage ToolKit',\n",
       "  'confidence': [1.0],\n",
       "  'technique': 'Regular expression'},\n",
       " 'usage': [{'excerpt': \"Installation (make sure prerequisites are installed)::\\n\\n   pip install -U rltk\\n\\nExample::\\n\\n   >>> import rltk\\n   >>> rltk.levenshtein_distance('abc', 'abd')\\n   1\\n\\n\",\n",
       "   'confidence': [1],\n",
       "   'technique': 'Header extraction'}],\n",
       " 'codeRepository': {'excerpt': 'https://github.com/usc-isi-i2/rltk',\n",
       "  'confidence': [1.0],\n",
       "  'technique': 'GitHub API'},\n",
       " 'owner': {'excerpt': 'usc-isi-i2',\n",
       "  'confidence': [1.0],\n",
       "  'technique': 'GitHub API'},\n",
       " 'ownerType': {'excerpt': 'Organization',\n",
       "  'confidence': [1.0],\n",
       "  'technique': 'GitHub API'},\n",
       " 'dateCreated': {'excerpt': '2017-02-15T22:20:47Z',\n",
       "  'confidence': [1.0],\n",
       "  'technique': 'GitHub API'},\n",
       " 'dateModified': {'excerpt': '2020-10-12T13:26:57Z',\n",
       "  'confidence': [1.0],\n",
       "  'technique': 'GitHub API'},\n",
       " 'license': {'excerpt': {'name': 'MIT License',\n",
       "   'url': 'https://api.github.com/licenses/mit'},\n",
       "  'confidence': [1.0],\n",
       "  'technique': 'GitHub API'},\n",
       " 'name': {'excerpt': 'rltk', 'confidence': [1.0], 'technique': 'GitHub API'},\n",
       " 'fullName': {'excerpt': 'usc-isi-i2/rltk',\n",
       "  'confidence': [1.0],\n",
       "  'technique': 'GitHub API'},\n",
       " 'issueTracker': {'excerpt': 'https://api.github.com/repos/usc-isi-i2/rltk/issues{/number}',\n",
       "  'confidence': [1.0],\n",
       "  'technique': 'GitHub API'},\n",
       " 'forks_url': {'excerpt': 'https://api.github.com/repos/usc-isi-i2/rltk/forks',\n",
       "  'confidence': [1.0],\n",
       "  'technique': 'GitHub API'},\n",
       " 'stargazers_count': {'excerpt': {'count': 70,\n",
       "   'date': 'Wed, 30 Dec 2020 22:14:20 GMT'},\n",
       "  'confidence': [1.0],\n",
       "  'technique': 'GitHub API'},\n",
       " 'forks_count': {'excerpt': {'count': 20,\n",
       "   'date': 'Wed, 30 Dec 2020 22:14:20 GMT'},\n",
       "  'confidence': [1.0],\n",
       "  'technique': 'GitHub API'},\n",
       " 'downloadUrl': {'excerpt': 'https://github.com/usc-isi-i2/rltk/releases',\n",
       "  'confidence': [1.0],\n",
       "  'technique': 'GitHub API'},\n",
       " 'topics': {'excerpt': ['linkage',\n",
       "   'similarity',\n",
       "   'similarity-metric',\n",
       "   'string-similarity',\n",
       "   'record-linkage',\n",
       "   'entity-resolution',\n",
       "   'deduplication'],\n",
       "  'confidence': [1.0],\n",
       "  'technique': 'GitHub API'},\n",
       " 'languages': {'excerpt': ['Python', 'Shell'],\n",
       "  'confidence': [1.0],\n",
       "  'technique': 'GitHub API'},\n",
       " 'readme_url': {'excerpt': 'https://github.com/usc-isi-i2/rltk/blob/master/README.rst',\n",
       "  'confidence': [1.0],\n",
       "  'technique': 'GitHub API'},\n",
       " 'releases': {'excerpt': [], 'confidence': [1.0], 'technique': 'GitHub API'}}"
      ]
     },
     "execution_count": 9,
     "metadata": {},
     "output_type": "execute_result"
    }
   ],
   "source": [
    "import json\n",
    "f = open('test.json',) \n",
    "results = json.load(f)\n",
    "results"
   ]
  },
  {
   "cell_type": "code",
   "execution_count": null,
   "metadata": {},
   "outputs": [],
   "source": []
  }
 ],
 "metadata": {
  "kernelspec": {
   "display_name": "Python 3",
   "language": "python",
   "name": "python3"
  },
  "language_info": {
   "codemirror_mode": {
    "name": "ipython",
    "version": 3
   },
   "file_extension": ".py",
   "mimetype": "text/x-python",
   "name": "python",
   "nbconvert_exporter": "python",
   "pygments_lexer": "ipython3",
   "version": "3.8.6"
  }
 },
 "nbformat": 4,
 "nbformat_minor": 4
}
